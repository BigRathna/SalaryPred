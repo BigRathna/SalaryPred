{
 "cells": [
  {
   "cell_type": "code",
   "execution_count": 1,
   "metadata": {},
   "outputs": [],
   "source": [
    "import pandas as pd\n",
    "from sklearn.model_selection import train_test_split\n",
    "from sklearn.preprocessing import LabelEncoder, StandardScaler\n",
    "import xgboost as xgb\n",
    "import joblib\n",
    "from sklearn.ensemble import RandomForestClassifier, GradientBoostingClassifier\n",
    "from sklearn.svm import SVC\n",
    "from sklearn.neural_network import MLPClassifier\n",
    "from sklearn.linear_model import LogisticRegression\n",
    "from sklearn.naive_bayes import GaussianNB\n",
    "from sklearn.model_selection import train_test_split\n",
    "from sklearn.metrics import accuracy_score, confusion_matrix, classification_report"
   ]
  },
  {
   "cell_type": "code",
   "execution_count": 2,
   "metadata": {},
   "outputs": [],
   "source": [
    "# Read the column names and unique values from the 'age.names' file\n",
    "column_names_file = r'Dataset\\adult.names'\n",
    "with open(column_names_file, 'r') as f:\n",
    "    lines = f.readlines()\n",
    "\n",
    "# Extract the attribute names from the lines\n",
    "attribute_names = []\n",
    "for line in lines[1:]:\n",
    "    line = line.strip()\n",
    "    if ':' in line:\n",
    "        attribute_name = line.split(':')[0].strip()\n",
    "        attribute_names.append(attribute_name)"
   ]
  },
  {
   "cell_type": "code",
   "execution_count": 3,
   "metadata": {},
   "outputs": [],
   "source": [
    "data = pd.read_csv(r'Dataset\\adult.data', header=None, names=attribute_names)\n",
    "# Select the relevant features and the target variable\n",
    "features = ['age', 'workclass', 'education', 'occupation', 'race', 'sex', 'hours-per-week', 'native-country']\n",
    "target = '>50k'\n",
    "\n",
    "\n",
    "X = data[features]\n",
    "y = data[target]"
   ]
  },
  {
   "cell_type": "code",
   "execution_count": 4,
   "metadata": {},
   "outputs": [
    {
     "name": "stdout",
     "output_type": "stream",
     "text": [
      "   age          workclass   education          occupation    race      sex  \\\n",
      "0   39          State-gov   Bachelors        Adm-clerical   White     Male   \n",
      "1   50   Self-emp-not-inc   Bachelors     Exec-managerial   White     Male   \n",
      "2   38            Private     HS-grad   Handlers-cleaners   White     Male   \n",
      "3   53            Private        11th   Handlers-cleaners   Black     Male   \n",
      "4   28            Private   Bachelors      Prof-specialty   Black   Female   \n",
      "\n",
      "   hours-per-week  native-country  \n",
      "0              40   United-States  \n",
      "1              13   United-States  \n",
      "2              40   United-States  \n",
      "3              40   United-States  \n",
      "4              40            Cuba  \n"
     ]
    }
   ],
   "source": [
    "print(X.head())"
   ]
  },
  {
   "cell_type": "code",
   "execution_count": 5,
   "metadata": {},
   "outputs": [
    {
     "name": "stderr",
     "output_type": "stream",
     "text": [
      "c:\\Users\\rathn\\anaconda3\\envs\\DataMining\\lib\\site-packages\\pandas\\core\\indexing.py:1743: SettingWithCopyWarning: \n",
      "A value is trying to be set on a copy of a slice from a DataFrame.\n",
      "Try using .loc[row_indexer,col_indexer] = value instead\n",
      "\n",
      "See the caveats in the documentation: https://pandas.pydata.org/pandas-docs/stable/user_guide/indexing.html#returning-a-view-versus-a-copy\n",
      "  isetter(ilocs[0], value)\n"
     ]
    }
   ],
   "source": [
    "label_encoder = LabelEncoder()\n",
    "for col in range(X.shape[1]):\n",
    "    if X.iloc[:, col].dtype == object:\n",
    "        X.iloc[:, col] = label_encoder.fit_transform(X.iloc[:, col])\n"
   ]
  },
  {
   "cell_type": "code",
   "execution_count": 6,
   "metadata": {},
   "outputs": [
    {
     "name": "stderr",
     "output_type": "stream",
     "text": [
      "c:\\Users\\rathn\\anaconda3\\envs\\DataMining\\lib\\site-packages\\pandas\\core\\indexing.py:1734: SettingWithCopyWarning: \n",
      "A value is trying to be set on a copy of a slice from a DataFrame.\n",
      "Try using .loc[row_indexer,col_indexer] = value instead\n",
      "\n",
      "See the caveats in the documentation: https://pandas.pydata.org/pandas-docs/stable/user_guide/indexing.html#returning-a-view-versus-a-copy\n",
      "  isetter(loc, value[:, i].tolist())\n"
     ]
    }
   ],
   "source": [
    "scaler = StandardScaler()\n",
    "numerical_features = ['age', 'hours-per-week']\n",
    "X.loc[:, numerical_features] = scaler.fit_transform(X.loc[:, numerical_features].values)\n"
   ]
  },
  {
   "cell_type": "code",
   "execution_count": 7,
   "metadata": {},
   "outputs": [
    {
     "name": "stdout",
     "output_type": "stream",
     "text": [
      "        age  workclass  education  occupation  race  sex  hours-per-week  \\\n",
      "0  0.030671          7          9           1     4    1       -0.035429   \n",
      "1  0.837109          6          9           4     4    1       -2.222153   \n",
      "2 -0.042642          4         11           6     4    1       -0.035429   \n",
      "3  1.057047          4          1           6     2    1       -0.035429   \n",
      "4 -0.775768          4          9          10     2    0       -0.035429   \n",
      "\n",
      "   native-country  \n",
      "0              39  \n",
      "1              39  \n",
      "2              39  \n",
      "3              39  \n",
      "4               5  \n"
     ]
    }
   ],
   "source": [
    "print(X.head())"
   ]
  },
  {
   "cell_type": "code",
   "execution_count": 8,
   "metadata": {},
   "outputs": [],
   "source": [
    "X_train, X_test, y_train, y_test = train_test_split(X, y, test_size=0.2, random_state=42)\n"
   ]
  },
  {
   "cell_type": "code",
   "execution_count": 9,
   "metadata": {},
   "outputs": [
    {
     "name": "stderr",
     "output_type": "stream",
     "text": [
      "c:\\Users\\rathn\\anaconda3\\envs\\DataMining\\lib\\site-packages\\xgboost\\sklearn.py:1224: UserWarning: The use of label encoder in XGBClassifier is deprecated and will be removed in a future release. To remove this warning, do the following: 1) Pass option use_label_encoder=False when constructing XGBClassifier object; and 2) Encode your labels (y) as integers starting with 0, i.e. 0, 1, 2, ..., [num_class - 1].\n",
      "  warnings.warn(label_encoder_deprecation_msg, UserWarning)\n"
     ]
    },
    {
     "name": "stdout",
     "output_type": "stream",
     "text": [
      "[15:32:00] WARNING: C:/Users/Administrator/workspace/xgboost-win64_release_1.5.1/src/learner.cc:1115: Starting in XGBoost 1.3.0, the default evaluation metric used with the objective 'binary:logistic' was changed from 'error' to 'logloss'. Explicitly set eval_metric if you'd like to restore the old behavior.\n"
     ]
    }
   ],
   "source": [
    "# Train the models\n",
    "model = xgb.XGBClassifier()\n",
    "model.fit(X_train, y_train)\n",
    "accuracy = model.score(X_test, y_test)\n",
    "\n",
    "# Random Forest\n",
    "rf = RandomForestClassifier()\n",
    "rf.fit(X_train, y_train)\n",
    "rf_pred = rf.predict(X_test)\n",
    "rf_accuracy = accuracy_score(y_test, rf_pred)\n",
    "\n",
    "# Gradient Boosting\n",
    "gb = GradientBoostingClassifier()\n",
    "gb.fit(X_train, y_train)\n",
    "gb_pred = gb.predict(X_test)\n",
    "gb_accuracy = accuracy_score(y_test, gb_pred)\n",
    "\n",
    "# Support Vector Machines\n",
    "svm = SVC()\n",
    "svm.fit(X_train, y_train)\n",
    "svm_pred = svm.predict(X_test)\n",
    "svm_accuracy = accuracy_score(y_test, svm_pred)\n",
    "\n",
    "# Neural Networks\n",
    "mlp = MLPClassifier()\n",
    "mlp.fit(X_train, y_train)\n",
    "mlp_pred = mlp.predict(X_test)\n",
    "mlp_accuracy = accuracy_score(y_test, mlp_pred)\n",
    "\n",
    "\n",
    "# Logistic Regression\n",
    "lr = LogisticRegression()\n",
    "lr.fit(X_train, y_train)\n",
    "lr_pred = lr.predict(X_test)\n",
    "lr_accuracy = accuracy_score(y_test, lr_pred)\n",
    "\n",
    "# Naive Bayes\n",
    "nb = GaussianNB()\n",
    "nb.fit(X_train, y_train)\n",
    "nb_pred = nb.predict(X_test)\n",
    "nb_accuracy = accuracy_score(y_test, nb_pred)\n",
    "\n",
    "\n"
   ]
  },
  {
   "cell_type": "code",
   "execution_count": 10,
   "metadata": {},
   "outputs": [
    {
     "name": "stdout",
     "output_type": "stream",
     "text": [
      "XGBoost accuracy:  0.8168278826961461\n",
      "Random Forest accuracy:  0.7919545524335944\n",
      "Gradient Boosting accuracy:  0.8215875940426839\n",
      "Support Vector Machines accuracy:  0.7587901120835252\n",
      "Neural Networks accuracy:  0.804544756640565\n",
      "Logistic Regression accuracy:  0.7595578074619991\n",
      "Naive Bayes accuracy:  0.7623215108245048\n"
     ]
    }
   ],
   "source": [
    "# print the accuracies of the model\n",
    "print('XGBoost accuracy: ', accuracy)\n",
    "print('Random Forest accuracy: ', rf_accuracy)\n",
    "print('Gradient Boosting accuracy: ', gb_accuracy)\n",
    "print('Support Vector Machines accuracy: ', svm_accuracy)\n",
    "print('Neural Networks accuracy: ', mlp_accuracy)\n",
    "print('Logistic Regression accuracy: ', lr_accuracy)\n",
    "print('Naive Bayes accuracy: ', nb_accuracy)\n"
   ]
  },
  {
   "cell_type": "code",
   "execution_count": 11,
   "metadata": {},
   "outputs": [
    {
     "data": {
      "text/plain": [
       "['models/naive_bayes_model.joblib']"
      ]
     },
     "execution_count": 11,
     "metadata": {},
     "output_type": "execute_result"
    }
   ],
   "source": [
    "# Save the models\n",
    "joblib.dump(rf, \"models/random_forest_model.joblib\")\n",
    "joblib.dump(gb, \"models/gradient_boosting_model.joblib\")\n",
    "joblib.dump(svm, \"models/svm_model.joblib\")\n",
    "joblib.dump(mlp, \"models/neural_network_model.joblib\")\n",
    "joblib.dump(lr, \"models/logistic_regression_model.joblib\")\n",
    "joblib.dump(nb, \"models/naive_bayes_model.joblib\")"
   ]
  }
 ],
 "metadata": {
  "kernelspec": {
   "display_name": "DataMining",
   "language": "python",
   "name": "python3"
  },
  "language_info": {
   "codemirror_mode": {
    "name": "ipython",
    "version": 3
   },
   "file_extension": ".py",
   "mimetype": "text/x-python",
   "name": "python",
   "nbconvert_exporter": "python",
   "pygments_lexer": "ipython3",
   "version": "3.6.13"
  },
  "orig_nbformat": 4
 },
 "nbformat": 4,
 "nbformat_minor": 2
}
